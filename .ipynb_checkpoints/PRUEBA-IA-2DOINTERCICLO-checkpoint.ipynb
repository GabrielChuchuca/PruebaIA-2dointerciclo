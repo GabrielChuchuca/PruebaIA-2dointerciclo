{
 "cells": [
  {
   "cell_type": "code",
   "execution_count": 1,
   "metadata": {},
   "outputs": [],
   "source": [
    "from neo4j import GraphDatabase"
   ]
  },
  {
   "cell_type": "code",
   "execution_count": null,
   "metadata": {},
   "outputs": [],
   "source": [
    "class HelloWorldExample(object): \n",
    "    def __init__(self):\n",
    "        self._driver = GraphDatabase.driver(\"bolt:neo4j://localhost:7687\", auth=(\"neo4j\", \"neo4jj\"), encrypted=False)\n",
    "     \n",
    "    def close(self):\n",
    "        self._driver.close()\n",
    "\n",
    "    def print_greeting(self, message):\n",
    "        with self._driver.session() as session:\n",
    "            greeting = session.write_transaction(self._create_and_return_greeting, message)\n",
    "            print(greeting)  \n",
    "    \n",
    "    @staticmethod\n",
    "    def _create_and_return_greeting(tx, message):\n",
    "        result = tx.run(\"CREATE (Lloret: Candidato {nombres:'Juan Lloret',movimiento: 'Centro Democrático',cargo: 'Asambleista Provincial'}) \"\n",
    "                        \"SET Lloret.message = $message \"\n",
    "                        \"RETURN Lloret.message + ', from node ' + id(Lloret)\", message=message)\n",
    "        result2 = tx.run(\"CREATE (Correa: Candidato {nombres:'Pierina Correa', movimiento: 'Centro Democrático', cargo: 'Asambleista Nacional'}) \"\n",
    "                        \"SET Correa.message = $message \"\n",
    "                        \"RETURN Correa.message + ', from node ' + id(Correa)\", message=message)\n",
    "        result3 = tx.run(\"CREATE (Arauz: Candidato {nombres:'Andres Arauz', movimiento: 'Centro Democrático', cargo: 'Presidente'}) \"\n",
    "                        \"SET Arauz.message = $message \"\n",
    "                        \"RETURN Arauz.message + ', from node ' + id(Arauz)\", message=message)\n",
    "        #result4 = tx.run(\"match(Arauz:Candidato {nombres:'Andres Arauz'})  match(Correa:Candidato {nombres:'Pierina Correa'}) match(Lloret:Candidato {nombres:'Juan Lloret'}) create (Arauz)-[:ES_DEL_MISMO_PARTIDO]->(Correa), (Arauz)-[:ES_DEL_MISMO_PARTIDO]->(Lloret)\")\n",
    "        return result.single()[0], result2.single()[0], result3.single()[0]"
   ]
  }
 ],
 "metadata": {
  "kernelspec": {
   "display_name": "Python 3",
   "language": "python",
   "name": "python3"
  },
  "language_info": {
   "codemirror_mode": {
    "name": "ipython",
    "version": 3
   },
   "file_extension": ".py",
   "mimetype": "text/x-python",
   "name": "python",
   "nbconvert_exporter": "python",
   "pygments_lexer": "ipython3",
   "version": "3.8.3"
  }
 },
 "nbformat": 4,
 "nbformat_minor": 4
}
